{
 "cells": [
  {
   "cell_type": "code",
   "execution_count": 1,
   "id": "d8bcb3f3-5589-43da-a737-5e4cf5202e40",
   "metadata": {
    "tags": []
   },
   "outputs": [],
   "source": [
    "import yaml\n",
    "\n",
    "import mecadoi.article\n",
    "import mecadoi.crossref.api\n",
    "import mecadoi.crossref.peer_review\n",
    "import mecadoi.model\n",
    "\n",
    "def load_articles(path):\n",
    "    return parse_articles(load_articles_dict(path))\n",
    "\n",
    "def load_articles_dict(path):\n",
    "    with open(path) as f:\n",
    "        return yaml.safe_load(f)\n",
    "\n",
    "def parse_articles(articles_dict):\n",
    "    return [\n",
    "        mecadoi.article.Article(\n",
    "            doi=article[\"doi\"],\n",
    "            title=article[\"title\"],\n",
    "            review_process=[\n",
    "                mecadoi.article.RevisionRound(\n",
    "                    reviews=[\n",
    "                        mecadoi.article.Review(\n",
    "                            authors=[\n",
    "                                mecadoi.model.Author(\n",
    "                                    given_name=author[\"given_name\"],\n",
    "                                    surname=author[\"surname\"],\n",
    "                                    orcid=mecadoi.model.Orcid(\n",
    "                                        id=author[\"orcid\"][\"id\"],\n",
    "                                        is_authenticated=author[\"orcid\"][\"is_authenticated\"],\n",
    "                                    ) if author[\"orcid\"] else None,\n",
    "                                    is_corresponding_author=author[\"is_corresponding_author\"],\n",
    "                                    institutions=[mecadoi.model.Institution(name=author[\"affiliation\"])],\n",
    "                                )\n",
    "                                for author in review[\"authors\"]\n",
    "                            ],\n",
    "                            text=review[\"text\"],\n",
    "                            doi=review[\"doi\"],\n",
    "                            publication_date=review[\"publication_date\"],\n",
    "                        )\n",
    "                        for review in revision_round[\"reviews\"]\n",
    "                    ],\n",
    "                    author_reply=mecadoi.article.AuthorReply(\n",
    "                        authors=[\n",
    "                            mecadoi.model.Author(\n",
    "                                given_name=author[\"given_name\"],\n",
    "                                surname=author[\"surname\"],\n",
    "                                orcid=mecadoi.model.Orcid(\n",
    "                                    id=author[\"orcid\"][\"id\"],\n",
    "                                    is_authenticated=author[\"orcid\"][\"is_authenticated\"],\n",
    "                                ) if author[\"orcid\"] else None,\n",
    "                                is_corresponding_author=author[\"is_corresponding_author\"],\n",
    "                                institutions=(\n",
    "                                    [mecadoi.model.Institution(name=author[\"affiliation\"])]\n",
    "                                    if author.get(\"affiliation\", None)\n",
    "                                    else [\n",
    "                                        mecadoi.model.Institution(\n",
    "                                            name=institution[\"name\"],\n",
    "                                            department=institution.get(\"department\", None),\n",
    "                                            city=institution.get(\"city\", None),\n",
    "                                            country=institution.get(\"country\", None),\n",
    "                                        )\n",
    "                                        for institution in author[\"institutions\"]\n",
    "                                    ]\n",
    "                                    if author.get(\"institutions\", None)\n",
    "                                    else None\n",
    "                                ),\n",
    "                            )\n",
    "                            for author in revision_round[\"author_reply\"][\"authors\"]\n",
    "                        ],\n",
    "                        text=revision_round[\"author_reply\"][\"text\"],\n",
    "                        doi=revision_round[\"author_reply\"][\"doi\"],\n",
    "                        publication_date=revision_round[\"author_reply\"][\"publication_date\"],\n",
    "                    )\n",
    "                    if revision_round[\"author_reply\"]\n",
    "                    else None,\n",
    "                )\n",
    "                for revision_round in article[\"review_process\"]\n",
    "            ]\n",
    "        )\n",
    "        for article in articles_dict\n",
    "    ]\n",
    "\n",
    "def save_deposition_xml(path, deposition_xml):\n",
    "    with open(f\"/Users/eidens/Projects/mecadoi-archives/legacy/RC/{path.stem}.xml\", \"w\") as f:\n",
    "        f.write(deposition_xml)\n",
    "\n",
    "def update(path):\n",
    "    articles = load_articles(path)\n",
    "    deposition_xml = mecadoi.crossref.peer_review.generate_peer_review_deposition(articles)\n",
    "    save_deposition_xml(path, deposition_xml)\n",
    "    return mecadoi.crossref.api.deposit(deposition_xml)"
   ]
  },
  {
   "cell_type": "code",
   "execution_count": 2,
   "id": "a9f197e8-cd0d-4439-885f-82a3df4772a6",
   "metadata": {},
   "outputs": [
    {
     "data": {
      "text/plain": [
       "[PosixPath('/Users/eidens/Projects/mecadoi-archives/batch/deposited/8ce1891c-46ec-41fe-b33d-9f32b6b7129b.yml')]"
      ]
     },
     "execution_count": 2,
     "metadata": {},
     "output_type": "execute_result"
    }
   ],
   "source": [
    "import pathlib\n",
    "deposited_articles = [pathlib.Path(\"/Users/eidens/Projects/mecadoi-archives/batch/deposited/8ce1891c-46ec-41fe-b33d-9f32b6b7129b.yml\")]\n",
    "deposited_articles"
   ]
  },
  {
   "cell_type": "code",
   "execution_count": 3,
   "id": "11c6a914-7857-44d6-8c6b-269ad278e64a",
   "metadata": {},
   "outputs": [
    {
     "data": {
      "text/plain": [
       "1"
      ]
     },
     "execution_count": 3,
     "metadata": {},
     "output_type": "execute_result"
    }
   ],
   "source": [
    "articles = [article for path in deposited_articles for article in load_articles(path)]\n",
    "len(articles)"
   ]
  },
  {
   "cell_type": "code",
   "execution_count": 4,
   "id": "bd323460",
   "metadata": {},
   "outputs": [
    {
     "data": {
      "text/plain": [
       "'10.1101/055574'"
      ]
     },
     "execution_count": 4,
     "metadata": {},
     "output_type": "execute_result"
    }
   ],
   "source": [
    "articles[0].doi"
   ]
  },
  {
   "cell_type": "code",
   "execution_count": 5,
   "id": "3aafb2a3",
   "metadata": {},
   "outputs": [],
   "source": [
    "articles[0].doi = \"10.1101/2020.04.22.055574\""
   ]
  },
  {
   "cell_type": "code",
   "execution_count": 6,
   "id": "82a395df-a4cf-4dd8-9c69-bdbccdbc60fe",
   "metadata": {},
   "outputs": [],
   "source": [
    "deposition_xml = mecadoi.crossref.peer_review.generate_peer_review_deposition(articles)\n",
    "with open(f\"update.xml\", \"w\") as f:\n",
    "        f.write(deposition_xml)"
   ]
  },
  {
   "cell_type": "code",
   "execution_count": 11,
   "id": "14ab6e6f-aa32-4fb6-b902-8fd78f5b5bc3",
   "metadata": {},
   "outputs": [
    {
     "data": {
      "text/plain": [
       "'https://doi.crossref.org/servlet/deposit'"
      ]
     },
     "execution_count": 11,
     "metadata": {},
     "output_type": "execute_result"
    }
   ],
   "source": [
    "mecadoi.crossref.api.CROSSREF_DEPOSITION_URL"
   ]
  },
  {
   "cell_type": "code",
   "execution_count": 8,
   "id": "4159109a",
   "metadata": {},
   "outputs": [
    {
     "data": {
      "text/plain": [
       "'<doi_batch xmlns=\"http://www.crossref.org/schema/5.3.1\" xmlns:rel=\"http://www.crossref.org/relations.xsd\" xmlns:xsi=\"http://www.w3.org/2001/XMLSchema-instance\" version=\"5.3.1\" xsi:schemaLocation=\"http://www.crossref.org/schema/5.3.1 http://www.crossref.org/schemas/crossref5.3.1.xsd\">\\n  <head>\\n    <doi_batch_id>rc.1687788814598726000</doi_batch_id>\\n    <timestamp>1687788814598726000</timestamp>\\n    <depositor>\\n      <depositor_name>EMBO</depositor_name>\\n      <email_address>eidens@embl.de</email_address>\\n    </depositor>\\n    <registrant>EMBO</registrant>\\n  </head>\\n  <body>\\n    <peer_review language=\"en\" revision-round=\"0\" type=\"referee-report\" stage=\"pre-publication\">\\n      <contributors>\\n        <anonymous sequence=\"first\" contributor_role=\"author\"/>\\n      </contributors>\\n      <titles>\\n        <title>Peer Review #1 of FAM111A regulates replication origin activation and cell fitness</title>\\n      </titles>\\n      <review_date>\\n        <month>4</month>\\n        <day>17</day>\\n        <year>2023</year>\\n      </review_date>\\n      <institution>\\n        <institution_name>Review Commons</institution_name>\\n      </institution>\\n      <running_number>1</running_number>\\n      <rel:program>\\n        <rel:related_item>\\n          <rel:inter_work_relation relationship-type=\"isReviewOf\" identifier-type=\"doi\">10.1101/2020.04.22.055574</rel:inter_work_relation>\\n        </rel:related_item>\\n      </rel:program>\\n      <doi_data>\\n        <doi>10.15252/rc.2023290746</doi>\\n        <resource>https://eeb.embo.org/doi/10.1101/2020.04.22.055574#rev0-rr1</resource>\\n      </doi_data>\\n    </peer_review>\\n    <peer_review language=\"en\" revision-round=\"0\" type=\"referee-report\" stage=\"pre-publication\">\\n      <contributors>\\n        <anonymous sequence=\"first\" contributor_role=\"author\"/>\\n      </contributors>\\n      <titles>\\n        <title>Peer Review #2 of FAM111A regulates replication origin activation and cell fitness</title>\\n      </titles>\\n      <review_date>\\n        <month>4</month>\\n        <day>17</day>\\n        <year>2023</year>\\n      </review_date>\\n      <institution>\\n        <institution_name>Review Commons</institution_name>\\n      </institution>\\n      <running_number>2</running_number>\\n      <rel:program>\\n        <rel:related_item>\\n          <rel:inter_work_relation relationship-type=\"isReviewOf\" identifier-type=\"doi\">10.1101/2020.04.22.055574</rel:inter_work_relation>\\n        </rel:related_item>\\n      </rel:program>\\n      <doi_data>\\n        <doi>10.15252/rc.2023734745</doi>\\n        <resource>https://eeb.embo.org/doi/10.1101/2020.04.22.055574#rev0-rr2</resource>\\n      </doi_data>\\n    </peer_review>\\n    <peer_review language=\"en\" revision-round=\"0\" type=\"referee-report\" stage=\"pre-publication\">\\n      <contributors>\\n        <anonymous sequence=\"first\" contributor_role=\"author\"/>\\n      </contributors>\\n      <titles>\\n        <title>Peer Review #3 of FAM111A regulates replication origin activation and cell fitness</title>\\n      </titles>\\n      <review_date>\\n        <month>4</month>\\n        <day>17</day>\\n        <year>2023</year>\\n      </review_date>\\n      <institution>\\n        <institution_name>Review Commons</institution_name>\\n      </institution>\\n      <running_number>3</running_number>\\n      <rel:program>\\n        <rel:related_item>\\n          <rel:inter_work_relation relationship-type=\"isReviewOf\" identifier-type=\"doi\">10.1101/2020.04.22.055574</rel:inter_work_relation>\\n        </rel:related_item>\\n      </rel:program>\\n      <doi_data>\\n        <doi>10.15252/rc.2023994032</doi>\\n        <resource>https://eeb.embo.org/doi/10.1101/2020.04.22.055574#rev0-rr3</resource>\\n      </doi_data>\\n    </peer_review>\\n    <peer_review language=\"en\" revision-round=\"0\" type=\"author-comment\" stage=\"pre-publication\">\\n      <contributors>\\n        <person_name sequence=\"first\" contributor_role=\"author\">\\n          <given_name>Diana</given_name>\\n          <surname>Rios Szwed</surname>\\n          <affiliations>\\n            <institution>\\n              <institution_name>University of Dundee</institution_name>\\n              <institution_place>Dundee, United Kingdom [GB]</institution_place>\\n              <institution_department>MCDB, School of Life Sciences</institution_department>\\n            </institution>\\n          </affiliations>\\n        </person_name>\\n        <person_name sequence=\"additional\" contributor_role=\"author\">\\n          <given_name>Elisa</given_name>\\n          <surname>Garcia Wilson</surname>\\n          <affiliations>\\n            <institution>\\n              <institution_name>University of Dundee</institution_name>\\n              <institution_place>Dundee, United Kingdom [GB]</institution_place>\\n              <institution_department>MCDB</institution_department>\\n            </institution>\\n          </affiliations>\\n        </person_name>\\n        <person_name sequence=\"additional\" contributor_role=\"author\">\\n          <given_name>Luis</given_name>\\n          <surname>Sanchez-pulido</surname>\\n          <affiliations>\\n            <institution>\\n              <institution_name>University of Edinburgh</institution_name>\\n              <institution_place>Edinburgh, United Kingdom [GB]</institution_place>\\n              <institution_department>MRC Human Genetics Unit, MRC Institute of Genetics and Molecular Medicine</institution_department>\\n            </institution>\\n          </affiliations>\\n        </person_name>\\n        <person_name sequence=\"additional\" contributor_role=\"author\">\\n          <given_name>Vanesa</given_name>\\n          <surname>Alvarez</surname>\\n          <affiliations>\\n            <institution>\\n              <institution_name>University of Dundee</institution_name>\\n              <institution_place>Dundee, Scotland</institution_place>\\n              <institution_department>MCDB</institution_department>\\n            </institution>\\n          </affiliations>\\n          <ORCID authenticated=\"true\">https://orcid.org/0000-0003-3410-3369</ORCID>\\n        </person_name>\\n        <person_name sequence=\"additional\" contributor_role=\"author\">\\n          <given_name>Hao</given_name>\\n          <surname>Jiang</surname>\\n          <affiliations>\\n            <institution>\\n              <institution_name>University of Dundee</institution_name>\\n              <institution_place>Dundee, United Kingdom [GB]</institution_place>\\n            </institution>\\n          </affiliations>\\n        </person_name>\\n        <person_name sequence=\"additional\" contributor_role=\"author\">\\n          <given_name>Susanne</given_name>\\n          <surname>Bandau</surname>\\n          <affiliations>\\n            <institution>\\n              <institution_name>University of Dundee</institution_name>\\n              <institution_place>Dundee, United Kingdom [GB]</institution_place>\\n              <institution_department>SCILLS</institution_department>\\n            </institution>\\n          </affiliations>\\n        </person_name>\\n        <person_name sequence=\"additional\" contributor_role=\"author\">\\n          <given_name>Angus I.</given_name>\\n          <surname>Lamond</surname>\\n          <affiliations>\\n            <institution>\\n              <institution_name>Dundee, University of</institution_name>\\n              <institution_place>UK-Dundee DD1 5EH Scotland, United Kingdom [GB]</institution_place>\\n              <institution_department>Gene Regulation &amp; Expression</institution_department>\\n            </institution>\\n          </affiliations>\\n          <ORCID authenticated=\"true\">https://orcid.org/0000-0001-6204-6045</ORCID>\\n        </person_name>\\n        <person_name sequence=\"additional\" contributor_role=\"author\">\\n          <given_name>Constance</given_name>\\n          <surname>Alabert</surname>\\n          <affiliations>\\n            <institution>\\n              <institution_name>University of Dundee</institution_name>\\n              <institution_place>Dundee, United Kingdom [GB]</institution_place>\\n              <institution_department>School of Life Sciences</institution_department>\\n            </institution>\\n          </affiliations>\\n          <ORCID authenticated=\"true\">https://orcid.org/0000-0002-4424-9014</ORCID>\\n        </person_name>\\n      </contributors>\\n      <titles>\\n        <title>Author Reply to Peer Reviews of FAM111A regulates replication origin activation and cell fitness</title>\\n      </titles>\\n      <review_date>\\n        <month>4</month>\\n        <day>17</day>\\n        <year>2023</year>\\n      </review_date>\\n      <institution>\\n        <institution_name>Review Commons</institution_name>\\n      </institution>\\n      <running_number>Author Reply</running_number>\\n      <rel:program>\\n        <rel:related_item>\\n          <rel:inter_work_relation relationship-type=\"isReviewOf\" identifier-type=\"doi\">10.1101/2020.04.22.055574</rel:inter_work_relation>\\n        </rel:related_item>\\n        <rel:related_item>\\n          <rel:inter_work_relation relationship-type=\"isReplyTo\" identifier-type=\"doi\">10.15252/rc.2023290746</rel:inter_work_relation>\\n        </rel:related_item>\\n        <rel:related_item>\\n          <rel:inter_work_relation relationship-type=\"isReplyTo\" identifier-type=\"doi\">10.15252/rc.2023734745</rel:inter_work_relation>\\n        </rel:related_item>\\n        <rel:related_item>\\n          <rel:inter_work_relation relationship-type=\"isReplyTo\" identifier-type=\"doi\">10.15252/rc.2023994032</rel:inter_work_relation>\\n        </rel:related_item>\\n      </rel:program>\\n      <doi_data>\\n        <doi>10.15252/rc.2023463797</doi>\\n        <resource>https://eeb.embo.org/doi/10.1101/2020.04.22.055574#rev0-ar</resource>\\n      </doi_data>\\n    </peer_review>\\n  </body>\\n</doi_batch>\\n'"
      ]
     },
     "execution_count": 8,
     "metadata": {},
     "output_type": "execute_result"
    }
   ],
   "source": [
    "deposition_xml"
   ]
  },
  {
   "cell_type": "code",
   "execution_count": 9,
   "id": "f3b49ea2-492f-410a-8e1c-c2b12ace5192",
   "metadata": {},
   "outputs": [
    {
     "data": {
      "text/plain": [
       "'\\n\\n\\n\\n<html>\\n<head><title>SUCCESS</title>\\n</head>\\n<body>\\n<h2>SUCCESS</h2>\\n<p>Your batch submission was successfully received.</p>\\n</body>\\n</html>\\n'"
      ]
     },
     "execution_count": 9,
     "metadata": {},
     "output_type": "execute_result"
    }
   ],
   "source": [
    "mecadoi.crossref.api.deposit(deposition_xml)"
   ]
  }
 ],
 "metadata": {
  "kernelspec": {
   "display_name": "Python 3 (ipykernel)",
   "language": "python",
   "name": "python3"
  },
  "language_info": {
   "codemirror_mode": {
    "name": "ipython",
    "version": 3
   },
   "file_extension": ".py",
   "mimetype": "text/x-python",
   "name": "python",
   "nbconvert_exporter": "python",
   "pygments_lexer": "ipython3",
   "version": "3.10.7"
  }
 },
 "nbformat": 4,
 "nbformat_minor": 5
}
